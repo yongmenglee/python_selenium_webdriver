{
 "cells": [
  {
   "cell_type": "markdown",
   "metadata": {},
   "source": [
    "# Python Selenium WebDriver - Finding WebElement with XPath\n",
    "\n",
    "## Table of Contents\n",
    "\n",
    "- **Import Python Packages**\n",
    "- **XPath - Part 1**\n",
    "  - XPath: Absolute Path\n",
    "  - XPath: Relative Path\n",
    "- **XPath - Part 2**\n",
    "  - XPath: `preceding-sibling` and `following-sibling`\n",
    "  - XPath: `parent`\n",
    "- **XPath - Part 3**\n",
    "  - XPath: `last()`\n",
    "  - XPath: `position()`\n",
    "- **Further Readings**"
   ]
  },
  {
   "cell_type": "markdown",
   "metadata": {},
   "source": [
    "## Import Python Packages\n",
    "\n",
    "Import necessary Python packages. Manual installation might be required for the packages below.\n",
    "\n",
    "- [`selenium`](https://pypi.org/project/selenium/): automation framework for website\n",
    "- [`webdriver_manager`](https://github.com/SergeyPirogov/webdriver_manager): installation of web drivers for different web browsers."
   ]
  },
  {
   "cell_type": "code",
   "execution_count": 1,
   "metadata": {},
   "outputs": [],
   "source": [
    "from selenium import webdriver\n",
    "from selenium.webdriver.common.by import By\n",
    "from selenium.webdriver.chrome.service import Service\n",
    "from webdriver_manager.chrome import ChromeDriverManager"
   ]
  },
  {
   "cell_type": "markdown",
   "metadata": {},
   "source": [
    "Note that `webdriver.Chrome(<executable path>)`\n",
    "\n",
    "```\n",
    "import os\n",
    "\n",
    "chromedriver = os.getcwd() + \"\\\\src\\\\chromedriver\\\\chromedriver.exe\"\n",
    "driver = webdriver.Chrome(chromedriver)\n",
    "```\n",
    "\n",
    "is deprecated. Therefore, we use `webdriver.Chrome(<service>)` as follows:\n",
    "\n",
    "```\n",
    "s = Service(ChromeDriverManager().install())\n",
    "driver = webdriver.Chrome(service=s)\n",
    "```\n",
    "\n",
    "to initialize the Chrome Driver.\n",
    "\n",
    "Further reading on deprecated `.Chrome(<executable path>)`: https://stackoverflow.com/questions/64717302/deprecationwarning-executable-path-has-been-deprecated-selenium-python"
   ]
  },
  {
   "cell_type": "code",
   "execution_count": 2,
   "metadata": {},
   "outputs": [
    {
     "name": "stderr",
     "output_type": "stream",
     "text": [
      "\n",
      "\n",
      "====== WebDriver manager ======\n",
      "Current google-chrome version is 99.0.4844\n",
      "Get LATEST chromedriver version for 99.0.4844 google-chrome\n",
      "Trying to download new driver from https://chromedriver.storage.googleapis.com/99.0.4844.51/chromedriver_win32.zip\n",
      "Driver has been saved in cache [C:\\Users\\Darren Lee\\.wdm\\drivers\\chromedriver\\win32\\99.0.4844.51]\n"
     ]
    }
   ],
   "source": [
    "s = Service(ChromeDriverManager().install())\n",
    "driver = webdriver.Chrome(service=s)"
   ]
  },
  {
   "cell_type": "markdown",
   "metadata": {},
   "source": [
    "Navigate to the URL, then maximize the window."
   ]
  },
  {
   "cell_type": "code",
   "execution_count": 3,
   "metadata": {},
   "outputs": [],
   "source": [
    "driver.get(\"https://www.google.com\")\n",
    "driver.maximize_window()"
   ]
  },
  {
   "cell_type": "code",
   "execution_count": 4,
   "metadata": {},
   "outputs": [],
   "source": [
    "driver.close()"
   ]
  },
  {
   "cell_type": "markdown",
   "metadata": {},
   "source": [
    "## XPath - Part 1\n",
    "\n",
    "In simple words, a webpage is an HTML page. Therefore, each element on a webpage (e.g., text, button, table, menu, etc.) is an HTML element with an associated XPath.\n",
    "\n",
    "An **XPath** is used to address/find the HTML element on a webpage. When browsing a webpage using browser on desktop/laptop device, an HTML element can be found by specifying its XPath via the browser inspection tool (shortcut: keyboard F12 key). There are two types of XPath, namely **absolute path** and **relative path**.\n",
    "\n",
    "<img src=\"./lib/img/Python_Selenium-01_xpath_types.svg\" style=\"width:350px\"/>\n",
    "\n",
    "Before diving further, we first navigate to our target page: [W3Schools](https://www.w3schools.com), then maximize the browser windows."
   ]
  },
  {
   "cell_type": "code",
   "execution_count": 5,
   "metadata": {
    "scrolled": true
   },
   "outputs": [],
   "source": [
    "driver = webdriver.Chrome(service=s)\n",
    "\n",
    "driver.get(\"https://www.w3schools.com\")\n",
    "driver.maximize_window() "
   ]
  },
  {
   "cell_type": "markdown",
   "metadata": {},
   "source": [
    "### 1.1 - XPath: Absolute Path\n",
    "\n",
    "An **absolute path** refers to the XPath which specifies the address to an HTML element by explicitly providing the location of the element on the page. It is **index-based**, in which, each element on the webpage is assigned an index value according to its location on the page. The elements at the later part of the webpage has a larger index value than the elements at the earlier part. \n",
    "\n",
    "An absolute path is difficult to maintain because changing the location of an HTML element on the webpage updates its corresponding index value. Specifically, changing the structure at the top part of the webpage might have a greater impact than the change at the bottom part of the webpage in terms of absolute path.\n",
    "\n",
    "> **Note:** The index value in an absolute path starts with 1, instead of 0. Therefore `div[1]` indicates the first `div` element on the specified path.\n",
    "\n",
    "Example of absolute path: `\"//body/div[@id='main']/div[2]/div[1]/div[1]/a[1]\"`.\n",
    "\n",
    "**Action:** Click \"Learn HTML\" button on [**W3Schools homepage**](https://www.w3schools.com/) using its absolute path.\n",
    "\n",
    "- Call `.find_element(<By strategy>, <value>)` to find an HTML element on the page, where\n",
    "  - `<By strategy>`: the strategy used to find the element, examples are CLASS_NAME, ID, TAG_NAME, XPATH, etc.\n",
    "  - `<value>`: the value in associate with the specified find strategy.\n",
    "- Append `.click()` after `.find_element()` to indicate the click action on the matching element."
   ]
  },
  {
   "cell_type": "code",
   "execution_count": 6,
   "metadata": {},
   "outputs": [],
   "source": [
    "# XPath: Absolute path\n",
    "abs_path = \"//body/div[@id='main']/div[2]/div[1]/div[1]/a[1]\"\n",
    "driver.find_element(By.XPATH, abs_path).click()"
   ]
  },
  {
   "cell_type": "markdown",
   "metadata": {},
   "source": [
    "### 1.2 - XPath: Relative Path\n",
    "\n",
    "On the other hand, a **relative path** refers to the XPath which specifies the address of the same HTML element by matching the specified attributes with their corresponding elements on the webpage. Example of attributes are ID, title, class, and href. It is **index-free**, in which, changing the location of one element does not change its relative path. Therefore, it is also easier to maintain.\n",
    "\n",
    "> **Note:** ID is the most straightforward attribute to find an HTML element because there are no two different elements sharing the same ID on an HTML page.\n",
    "\n",
    "Example of relative path: `\"//body/div[@id='sidenav']/div[@id='leftmenuinner']/div[@id='leftmenuinnerinner']/a[contains(text(), 'HTML Attributes')]\"`\n",
    "\n",
    "**Action:** Click \"HTML Attributes\" from the left navigation menu of the [**W3Schools - HTML page**](https://www.w3schools.com/html/default.asp) using its relative path."
   ]
  },
  {
   "cell_type": "code",
   "execution_count": 7,
   "metadata": {},
   "outputs": [],
   "source": [
    "# XPath: Relative path\n",
    "rel_path = \"//body/div[@id='sidenav']/div[@id='leftmenuinner']/div[@id='leftmenuinnerinner']/a[contains(text(), 'HTML Attributes')]\"\n",
    "driver.find_element(By.XPATH, rel_path).click()"
   ]
  },
  {
   "cell_type": "markdown",
   "metadata": {},
   "source": [
    "When finding elements, specifying the Xpath using using an absolute path is rare. However, you can mix absolute and relative path to find HTML elements on a website."
   ]
  },
  {
   "cell_type": "code",
   "execution_count": 8,
   "metadata": {},
   "outputs": [],
   "source": [
    "driver.close()"
   ]
  },
  {
   "cell_type": "markdown",
   "metadata": {},
   "source": [
    "## XPath - Part 2\n",
    "\n",
    "In [**XPath - Part 1**](#XPath---Part-1), we discussed that there are two types of XPath used to find elements on an HTML page, namely **absolute path** and **relative path**. Absolute path is index-based, in which, the address of an HTML element is updated after changing its position on the page. On the other hand, relative path is index-free, in which, an HTML element is found by matching the specified attributes on elements on the page. One of these attributes is the ID.\n",
    "\n",
    "However, <span style=\"color: red\">ID is not a required attribute of an HTML element</span> on webpage. Therefore, it might be times when an element cannot be found by specifying its unique ID, simply because there is no ID attribute for that target element.\n",
    "\n",
    "In this section, the three keywords used to specify XPath of an HTML element via traversal of neighbourhood or parent elements are introduced, namely: `preceding-sibling`, `following-sibling`, and `parent`.\n",
    "\n",
    "First, navigate to the target page: [W3Schools](https://www.w3schools.com), then maximise the browser window."
   ]
  },
  {
   "cell_type": "code",
   "execution_count": 9,
   "metadata": {},
   "outputs": [],
   "source": [
    "driver = webdriver.Chrome(service=s)\n",
    "\n",
    "driver.get(\"https://www.w3schools.com\")\n",
    "driver.maximize_window()"
   ]
  },
  {
   "cell_type": "markdown",
   "metadata": {},
   "source": [
    "### 2.1 - XPath: `preceding-sibling` and `following-sibling`\n",
    "\n",
    "One can specify the XPath of an HTML element by traversing through the neighbouring elements using `preceding-sibling` and `following-sibling` keywords in the XPath. As the name implies, `preceding-sibling` is used to specify the neighbouring element before the base element, whereas `following-sibling` is used to specify the neighbouring element that follows the base element.\n",
    "\n",
    "> **Note:** The sibling (or neighbouring) elements need not have the same HTML tag as the base element. For instance, user can specify the sibling with HTML tag `table` for base element with HTML tag `h3`.\n",
    "\n",
    "For the demonstration purpose, we focus on the Tutorial menu expanded from the top navigation menu of our target page.\n",
    "\n",
    "**Action:** On [**W3Schools homepage**](https://www.w3schools.com/), click the \"Tutorial\" from the top navigation menu to expand Tutorial menu."
   ]
  },
  {
   "cell_type": "code",
   "execution_count": 10,
   "metadata": {},
   "outputs": [],
   "source": [
    "# Click \"Tutorial\" on top navigation menu.\n",
    "XPATH_NAV_TUTORIAL = \"//a[@id='navbtn_tutorials']\"\n",
    "\n",
    "driver.find_element(By.XPATH, XPATH_NAV_TUTORIAL).click()"
   ]
  },
  {
   "cell_type": "markdown",
   "metadata": {},
   "source": [
    "**Base element: \"Learn CSS\"**\n",
    "\n",
    "The Tutorial menu on the target page consists of different items categorized into several sections. Specifically, below \"HTML and CSS\" section, the list of items are as follows:\n",
    "\n",
    "<img src=\"./lib/img/Python_Selenium-02_w3schools_html_and_css_v2.svg\" style=\"width:750px\"/>\n",
    "\n",
    "Now, imagine that we do not know the XPath of any elements on the Tutorial menu, except for **\"HTML and CSS: Learn CSS\"**. Therefore, we select it as the base element which will be referred by the preceding and following siblings when defining XPath for the neighbouring elements.\n",
    "\n",
    "**Action:** On Tutorial menu, click \"Learn CSS\" below the \"HTML and CSS\" section."
   ]
  },
  {
   "cell_type": "code",
   "execution_count": 11,
   "metadata": {},
   "outputs": [],
   "source": [
    "# Click \"HTML and CSS > Learn CSS\"\n",
    "XPATH_NAV_TUT_LEARN_CSS = \"//nav[@id='nav_tutorials']/div[1]/div[1]/div[2]/a[2]\"\n",
    "\n",
    "driver.find_element(By.XPATH, XPATH_NAV_TUT_LEARN_CSS).click()"
   ]
  },
  {
   "cell_type": "markdown",
   "metadata": {},
   "source": [
    "**`preceding-sibling`: \"Learn HTML\"**\n",
    "\n",
    "By assuming that we don't know the XPath of the neighbouring link/anchor element: \"Learn HTML\" preceding the base element: \"Learn CSS\", we can append `/preceding-sibling::a` keyword after the XPath of \"Learn CSS\" element to define the XPath of \"Learn HTML\" element. Given the XPath of \"Learn CSS\" element is as follows: \n",
    "\n",
    "```\n",
    "\"//nav[@id='nav_tutorials']/div[1]/div[1]/div[2]/a[2]\"\n",
    "```\n",
    "\n",
    "the XPath of \"Learn HTML\" element is therefore: \n",
    "\n",
    "```\n",
    "\"//nav[@id='nav_tutorials']/div[1]/div[1]/div[2]/a[2]/preceding-sibling::a\"\n",
    "```\n",
    "\n",
    "where:\n",
    "\n",
    "- `/preceding-sibling`: \"Learn HTML\" is a neighbouring element before \"Learn CSS\" on the Tutorial menu,\n",
    "- `::a`: \"Learn HTML\" is a link/anchor element.\n",
    "\n",
    "\n",
    "**Action:** On Tutorial menu, click \"Learn HTML\" below the \"HTML and CSS\" section."
   ]
  },
  {
   "cell_type": "code",
   "execution_count": 12,
   "metadata": {},
   "outputs": [],
   "source": [
    "# Click \"Tutorial\" on top navigation menu >> Click \"HTML and CSS: Learn HTML\".\n",
    "XPATH_NAV_TUT_LEARN_HTML = XPATH_NAV_TUT_LEARN_CSS + \"/preceding-sibling::a\"\n",
    "\n",
    "driver.find_element(By.XPATH, XPATH_NAV_TUTORIAL).click()\n",
    "driver.find_element(By.XPATH, XPATH_NAV_TUT_LEARN_HTML).click()"
   ]
  },
  {
   "cell_type": "markdown",
   "metadata": {},
   "source": [
    "**`following-sibling`: \"Learn Colors\"**\n",
    "\n",
    "With similar fashion, we can append `/following-sibling::a[4]` keyword after the XPath of \"Learn CSS\" to define the XPath of the following \"Learn Colors\" element. Given the XPath of \"Learn CSS\" element is as follows: \n",
    "\n",
    "```\n",
    "\"//nav[@id='nav_tutorials']/div[1]/div[1]/div[2]/a[2]\"\n",
    "```\n",
    "\n",
    "the XPath of \"Learn Colors\" element is therefore: \n",
    "\n",
    "```\n",
    "\"//nav[@id='nav_tutorials']/div[1]/div[1]/div[2]/a[2]/following-sibling::a[4]\"\n",
    "```\n",
    "\n",
    "where:\n",
    "\n",
    "- `/following-sibling`: \"Learn Colors\" is a neighbouring element after \"Learn CSS\" on the Tutorial menu,\n",
    "- `::a[4]`: \"Learn Colors\" is **the 4th neighbouring link/anchor element** counting from \"Learn CSS\".\n",
    "\n",
    "> **Note:** Index value can be specified for `preceding-sibling::<HTML tag>` as well. Without index value, the resulting XPath points to the immediate neighbouring element.\n",
    "\n",
    "**Action:** On Tutorial menu, click \"Learn Colors\" below the \"HTML and CSS\" section."
   ]
  },
  {
   "cell_type": "code",
   "execution_count": 13,
   "metadata": {},
   "outputs": [],
   "source": [
    "# Click \"Tutorial\" on top navigation menu >> Click \"HTML and CSS: Learn Colors\".\n",
    "XPATH_NAV_TUT_LEARN_COLORS = XPATH_NAV_TUT_LEARN_CSS + \"/following-sibling::a[4]\"\n",
    "\n",
    "driver.find_element(By.XPATH, XPATH_NAV_TUTORIAL).click()\n",
    "driver.find_element(By.XPATH, XPATH_NAV_TUT_LEARN_COLORS).click()"
   ]
  },
  {
   "cell_type": "markdown",
   "metadata": {},
   "source": [
    "### 2.2 - XPath: `parent`\n",
    "\n",
    "As mentioned earlier, \n",
    "\n",
    "> The Tutorial menu on the target page consists of different items categorized into several sections (...)\n",
    "\n",
    "The base element \"Learn CSS\" is categorized into \"HTML and CSS\" section, whereas our target element \"Create a Website\" is listed below another section: \"Web Building\", as follows:\n",
    "\n",
    "\n",
    "<img src=\"./lib/img/Python_Selenium-03_w3schools_web_building.svg\" style=\"width:750px\"/>\n",
    "\n",
    "Imagine that we do not know the XPath of any elements on the Tutorial menu, except for our base element: \"HTML and CSS: Learn CSS\". Besides, \"Create a Website\" is not a neighbouring element preceding or following \"Learn CSS\" as we have covered before.\n",
    "\n",
    "**Question:** So, how can we specify the XPath of the target element?\n",
    "\n",
    "Fortunately, we can traverse to the target element \"Create a Website\" by first moving to the HTML element that contains both \"HTML and CSS\" and \"Web Building\" sections using the `parent` keyword, then specifying the absolute or relative path to the target element. Given the XPath of \"Learn CSS\" element is as follows: \n",
    "\n",
    "```\n",
    "\"//nav[@id='nav_tutorials']/div[1]/div[1]/div[2]/a[2]\"\n",
    "```\n",
    "\n",
    "the XPath of the HTML element that covers both \"Learn CSS\" and \"Create a Website\" is as follows: \n",
    "\n",
    "```\n",
    "\"//nav[@id='nav_tutorials']/div[1]/div[1]/div[2]/a[2]/parent::div/parent::div\"\n",
    "```\n",
    "\n",
    "Finally, the XPath of \"Create a Website\" element is as follows:\n",
    "\n",
    "```\n",
    "\"//nav[@id='nav_tutorials']/div[1]/div[1]/div[2]/a[2]/parent::div/parent::div/div[4]/h3[contains(text(),'Web Building')]/following-sibling::a[1]\"\n",
    "```\n",
    "\n",
    "where:\n",
    "\n",
    "- `/parent::div/parent::div`: Traversal back to the HTML element (here: `div`) that contains both \"HTML and CSS\" and \"Web Building\" sections on Tutorial menu.\n",
    "- `/div[4]/h3[contains(text(),'Web Building')]`: Traversal to the \"Web Building\" section.\n",
    "- `/following-sibling::a[1]`: \"Create a Website\" is the immediate neighbouring link/anchor element following the \"Web Building\" section header text.\n",
    "\n",
    "**Action:** On Tutorial menu, click \"Create a Website\" below the \"Web Building\" section, given that we only know the XPath of \"Learn CSS\" below the \"HTML and CSS\" section."
   ]
  },
  {
   "cell_type": "code",
   "execution_count": 14,
   "metadata": {},
   "outputs": [],
   "source": [
    "XPATH_NAV_TUT_WEB_BUILDING = XPATH_NAV_TUT_LEARN_CSS + \"/parent::div/parent::div/div[4]/h3[contains(text(),'Web Building')]\"\n",
    "XPATH_NAV_TUT_CREATE_WEBSITE = XPATH_NAV_TUT_WEB_BUILDING + \"/following-sibling::a[1]\"\n",
    "\n",
    "driver.find_element(By.XPATH, XPATH_NAV_TUTORIAL).click()\n",
    "driver.find_element(By.XPATH, XPATH_NAV_TUT_CREATE_WEBSITE).click()"
   ]
  },
  {
   "cell_type": "code",
   "execution_count": 15,
   "metadata": {},
   "outputs": [],
   "source": [
    "driver.close()"
   ]
  },
  {
   "cell_type": "markdown",
   "metadata": {},
   "source": [
    "## XPath - Part 3\n",
    "\n",
    "Another way of specifying the XPath of an HTML element is by using the following XPath functions: [`last()`](https://developer.mozilla.org/en-US/docs/Web/XPath/Functions/last) and [`position()`](https://developer.mozilla.org/en-US/docs/Web/XPath/Functions/position). There are more XPath functions available on the [XPath documentation](https://developer.mozilla.org/en-US/docs/Web/XPath), which is beyond the scope of our discussion here.\n",
    "\n",
    "<img src=\"./lib/img/Python_Selenium-04_w3schools_html_and_css_last_pos.svg\" style=\"width:750px\"/>"
   ]
  },
  {
   "cell_type": "code",
   "execution_count": 22,
   "metadata": {},
   "outputs": [],
   "source": [
    "driver = webdriver.Chrome(service=s)\n",
    "\n",
    "driver.get(\"https://www.w3schools.com\")\n",
    "driver.maximize_window()"
   ]
  },
  {
   "cell_type": "markdown",
   "metadata": {},
   "source": [
    "To get started, we first expand the Tutorial menu on the target page.\n",
    "\n",
    "**Action:** On [**W3Schools homepage**](https://www.w3schools.com/), click the \"Tutorial\" from the top navigation menu to expand Tutorial menu."
   ]
  },
  {
   "cell_type": "code",
   "execution_count": 23,
   "metadata": {},
   "outputs": [],
   "source": [
    "# Click \"Tutorial\" on top navigation menu.\n",
    "XPATH_NAV_TUTORIAL = \"//a[@id='navbtn_tutorials']\"\n",
    "\n",
    "driver.find_element(By.XPATH, XPATH_NAV_TUTORIAL).click()"
   ]
  },
  {
   "cell_type": "markdown",
   "metadata": {},
   "source": [
    "### 3.1 - XPath: `last()`\n",
    "\n",
    "From the XPath documentation, the definition of the XPath's `last()` function is defined as follows:\n",
    "\n",
    "> The `last` function returns a number equal to the context size from the expression evaluation context.\n",
    "\n",
    "When specifying the XPath of an HTML element, this function can be used together with `preceding-sibling` or `following-sibling` keywords to specify the **last neighbouring element** of a base element.\n",
    "\n",
    "On the Tutorial menu, the section header (HTML tag: `h3`) and list of links below each section (HTML tag: `a`) belong to one neighbourhood. We focus on the \"HTML and CSS\" section. Given the XPath of the section header is as follows:\n",
    "\n",
    "```\n",
    "\"//h3[text()='HTML and CSS']\"\n",
    "```\n",
    "\n",
    "the XPath of the **last element within the same neighbourhood** (i.e., \"Learn Sass\") can be specified as follows:\n",
    "\n",
    "```\n",
    "\"(//h3[text()='HTML and CSS']/following-sibling::a)[last()]\"\n",
    "```\n",
    "\n",
    "where:\n",
    "\n",
    "- `/following-sibling::a`: specify all the neighbouring elements that follow after the section header \"HTML and CSS\",\n",
    "- `[last()]`: XPath function enclosed within square bracket indicating the index of the last element from the list (enclosed within parentheses).\n",
    "\n",
    "\n",
    "**Action:** On Tutorial menu, click the last item (i.e., \"Learn Sass\") below the \"HTML and CSS\" section."
   ]
  },
  {
   "cell_type": "code",
   "execution_count": 24,
   "metadata": {},
   "outputs": [],
   "source": [
    "# Click \"HTML and CSS: Learn Sass\"\n",
    "XPATH_NAV_TUT_LEARN_SASS = \"(//h3[text()='HTML and CSS']/following-sibling::a)[last()]\"\n",
    "\n",
    "driver.find_element(By.XPATH, XPATH_NAV_TUT_LEARN_SASS).click()"
   ]
  },
  {
   "cell_type": "markdown",
   "metadata": {},
   "source": [
    "Since the XPath function: `last()` returns a numeric value indicating the size of the list of elements, we can perform minus operations to find the n-th last element that belongs to the same neighbourhood. \n",
    "\n",
    "For example, the XPath of the **second last element within the same neighbourhood** (i.e., \"Learn How To\") can be specified as follows:\n",
    "\n",
    "```\n",
    "\"(//h3[text()='HTML and CSS']/following-sibling::a)[last()-1]\"\n",
    "```\n",
    "\n",
    "where:\n",
    "\n",
    "- `[last()-1]`: the index of the **second last element** (i.e., $n - 1$, for $n$ = number of elements) from the list of neighbouring elements.\n",
    "\n",
    "**Action:** On Tutorial menu, click the second last item (i.e., \"Learn How To\") below the \"HTML and CSS\" section."
   ]
  },
  {
   "cell_type": "code",
   "execution_count": 25,
   "metadata": {},
   "outputs": [],
   "source": [
    "# Click \"HTML and CSS: Learn How To\"\n",
    "XPATH_NAV_TUT_LEARN_HOW_TO = \"(//h3[text()='HTML and CSS']/following-sibling::a)[last()-1]\"\n",
    "\n",
    "driver.find_element(By.XPATH, XPATH_NAV_TUTORIAL).click()\n",
    "driver.find_element(By.XPATH, XPATH_NAV_TUT_LEARN_HOW_TO).click()"
   ]
  },
  {
   "cell_type": "markdown",
   "metadata": {},
   "source": [
    "### 3.2 - XPath: `position()` \n",
    "\n",
    "According to the XPath documentation, the definition of the XPath function: `position()` is as follows:\n",
    "\n",
    "> The `position` function returns a number equal to the context position from the expression evaluation context.\n",
    "\n",
    "The syntax of `position()` function is similar to `last()` function, but it is used to specify the index of the target element within a list of neighbourhood elements.\n",
    "\n",
    "For example, the XPath of the first element within the same neighbourhood that follows after the section header \"HTML and CSS\" can be specified as follows:\n",
    "\n",
    "```\n",
    "\"(//h3[text()='HTML and CSS']/following-sibling::a)[position()=1]\"\n",
    "```\n",
    "\n",
    "where:\n",
    "\n",
    "- `[position()=1]`: the index value of the target element is 1.\n",
    "\n",
    "\n",
    "**Action:** On Tutorial menu, click the first item (i.e., \"Learn HTML\") below the \"HTML and CSS\" section."
   ]
  },
  {
   "cell_type": "code",
   "execution_count": 26,
   "metadata": {},
   "outputs": [],
   "source": [
    "# Click \"HTML and CSS: Learn HTML\"\n",
    "XPATH_NAV_TUT_LEARN_HTML_POS = \"(//h3[text()='HTML and CSS']/following-sibling::a)[position()=1]\"\n",
    "\n",
    "driver.find_element(By.XPATH, XPATH_NAV_TUTORIAL).click()\n",
    "driver.find_element(By.XPATH, XPATH_NAV_TUT_LEARN_HTML_POS).click()"
   ]
  },
  {
   "cell_type": "code",
   "execution_count": 27,
   "metadata": {},
   "outputs": [],
   "source": [
    "driver.close()"
   ]
  },
  {
   "cell_type": "markdown",
   "metadata": {},
   "source": [
    "## Further Readings\n",
    "\n",
    "The following lists down reading materials and references relevant to finding WebElement with XPath using Python Selenium WebDriver.\n",
    "\n",
    "- Selenium API for Python: https://selenium-python.readthedocs.io/api.html\n",
    "- XPath: https://developer.mozilla.org/en-US/docs/Web/XPath"
   ]
  }
 ],
 "metadata": {
  "kernelspec": {
   "display_name": "Python 3",
   "language": "python",
   "name": "python3"
  },
  "language_info": {
   "codemirror_mode": {
    "name": "ipython",
    "version": 3
   },
   "file_extension": ".py",
   "mimetype": "text/x-python",
   "name": "python",
   "nbconvert_exporter": "python",
   "pygments_lexer": "ipython3",
   "version": "3.8.3"
  }
 },
 "nbformat": 4,
 "nbformat_minor": 4
}
