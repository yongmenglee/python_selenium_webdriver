{
 "cells": [
  {
   "cell_type": "markdown",
   "metadata": {},
   "source": [
    "# Python Selenium WebDriver - Finding WebElement with Other Strategies\n",
    "\n",
    "*This tutorial covers different strategies to find WebElements using Python Selenium WebDriver, including \"CLASS_NAME\", \"ID\", \"NAME\", and \"TAG_NAME\".*\n",
    "\n",
    "## Table of Content\n",
    "\n",
    "- Import Python Packages\n",
    "- Class Name\n",
    "- ID\n",
    "- Name\n",
    "- Tag Name\n",
    "- Further Readings\n",
    "\n",
    "<img src='./lib/img/florian-olivo-4hbJ-eymZ1o-unsplash.jpg'></img>\n",
    "\n",
    "Photo by <a href=\"https://unsplash.com/@florianolv?utm_source=unsplash&utm_medium=referral&utm_content=creditCopyText\">Florian Olivo</a> on <a href=\"https://unsplash.com/s/photos/html5?utm_source=unsplash&utm_medium=referral&utm_content=creditCopyText\">Unsplash</a>"
   ]
  },
  {
   "cell_type": "markdown",
   "metadata": {},
   "source": [
    "## Import Python Packages\n",
    "\n",
    "Import necessary Python packages. Manual installation might be required for the packages below.\n",
    "\n",
    "- [`selenium`](https://pypi.org/project/selenium/): automation framework for website\n",
    "- [`webdriver_manager`](https://github.com/SergeyPirogov/webdriver_manager): installation of web drivers for different web browsers."
   ]
  },
  {
   "cell_type": "code",
   "execution_count": 1,
   "metadata": {},
   "outputs": [],
   "source": [
    "from selenium import webdriver\n",
    "from selenium.webdriver.common.by import By\n",
    "from selenium.webdriver.chrome.service import Service\n",
    "from webdriver_manager.chrome import ChromeDriverManager"
   ]
  },
  {
   "cell_type": "markdown",
   "metadata": {},
   "source": [
    "### Configure Python Selenium WebDriver for Chrome browser.\n",
    "\n",
    "Configure web driver for Chrome browser by first installing `ChromeDriverManager()` from `webdriver_manager` package, then creating an instance of `Service()` which will then be passed as a parameter inside an instance of `webdriver.Chrome()` object.\n",
    "\n",
    "**Note:** Each browser has its own web driver. For instance, Firefox browser and Safari browser (MacOS) have their own web drivers, which need to be downloaded and specified prior to the web scraping process."
   ]
  },
  {
   "cell_type": "code",
   "execution_count": 2,
   "metadata": {
    "scrolled": true
   },
   "outputs": [
    {
     "name": "stderr",
     "output_type": "stream",
     "text": [
      "\n",
      "\n",
      "====== WebDriver manager ======\n",
      "Current google-chrome version is 100.0.4896\n",
      "Get LATEST chromedriver version for 100.0.4896 google-chrome\n",
      "Trying to download new driver from https://chromedriver.storage.googleapis.com/100.0.4896.60/chromedriver_win32.zip\n",
      "Driver has been saved in cache [C:\\Users\\Darren Lee\\.wdm\\drivers\\chromedriver\\win32\\100.0.4896.60]\n"
     ]
    }
   ],
   "source": [
    "s = Service(ChromeDriverManager().install())\n",
    "driver = webdriver.Chrome(service=s)"
   ]
  },
  {
   "cell_type": "markdown",
   "metadata": {},
   "source": [
    "Verify that the driver is set up properly. User can visit the page for the specified URL and maximize the Chrome browser window."
   ]
  },
  {
   "cell_type": "code",
   "execution_count": 3,
   "metadata": {},
   "outputs": [],
   "source": [
    "driver.get(\"https://www.google.com\")\n",
    "driver.maximize_window()"
   ]
  },
  {
   "cell_type": "markdown",
   "metadata": {},
   "source": [
    "Close the browser window."
   ]
  },
  {
   "cell_type": "code",
   "execution_count": 4,
   "metadata": {},
   "outputs": [],
   "source": [
    "driver.close()"
   ]
  },
  {
   "cell_type": "markdown",
   "metadata": {},
   "source": [
    "## Class Name"
   ]
  },
  {
   "cell_type": "markdown",
   "metadata": {},
   "source": [
    "In this tutorial, the target page is the homepage of the [W3Schools website](https://www.w3schools.com). The first step is to a define an instance of Chrome driver, then open the page for the specific URL. Maximizing the browser window is optional."
   ]
  },
  {
   "cell_type": "code",
   "execution_count": 5,
   "metadata": {},
   "outputs": [],
   "source": [
    "driver = webdriver.Chrome(service=s)\n",
    "driver.get(\"https://www.w3schools.com\")\n",
    "driver.maximize_window()"
   ]
  },
  {
   "cell_type": "markdown",
   "metadata": {},
   "source": [
    "Specifying WebElement by class name is straight forward. The first step is to identify the class name of the target element(s) on the page. Usually, this strategy is used to extract list of similar elements below the same section, or with shared attributes, e.g. list of buttons, table rows, etc. In Python Selenium API, the `By` strategy for class name is `CLASS_NAME`.\n",
    "\n",
    "### Retrieve and print the names of all buttons with class name \"w3-btn\" on the target page.\n",
    "\n",
    "On W3Schools homepage, there are two buttons with class name: `\"w3-btn\"`."
   ]
  },
  {
   "cell_type": "code",
   "execution_count": 6,
   "metadata": {
    "scrolled": true
   },
   "outputs": [
    {
     "name": "stdout",
     "output_type": "stream",
     "text": [
      "Number of button(s) with class name \"w3-btn\": 2\n",
      "--------------------------------------------------\n",
      "- Log in\n",
      "- Get started\n"
     ]
    }
   ],
   "source": [
    "BTN_CLASS_NAME = \"w3-btn\"\n",
    "list_of_buttons = driver.find_elements(By.CLASS_NAME, BTN_CLASS_NAME)\n",
    "\n",
    "print(f\"Number of button(s) with class name \\\"{BTN_CLASS_NAME}\\\": {len(list_of_buttons)}\")\n",
    "print(\"-\"*50)\n",
    "for button in list_of_buttons:\n",
    "    print(\"-\", button.text)"
   ]
  },
  {
   "cell_type": "markdown",
   "metadata": {},
   "source": [
    "### Retrieve and print the names of all tutorial buttons on the target page.\n",
    "\n",
    "Repeat the same for tutorial buttons, i.e., buttons with class name: `\"tut-button\"`.\n",
    "\n",
    "**Note:** The \"NEW\" tag that appears at the top left of the tutorial button is a span element enclosed within the button elements, if exists. Therefore, a helper function `replace_multiple_texts()` is defined to remove the span text when printing the button names."
   ]
  },
  {
   "cell_type": "code",
   "execution_count": 7,
   "metadata": {},
   "outputs": [
    {
     "name": "stdout",
     "output_type": "stream",
     "text": [
      "Number of tutorial button(s): 17\n",
      "--------------------------------------------------\n",
      "- Learn HTML\n",
      "- Video Tutorial NE\n",
      "- Learn CSS\n",
      "- Learn JavaScript\n",
      "- Learn Python\n",
      "- Learn SQL\n",
      "- Learn PHP\n",
      "- Learn jQuery\n",
      "- Learn Java\n",
      "- Learn C++\n",
      "- Learn W3.CSS\n",
      "- Learn Bootstrap\n",
      "- Get Started for Free\n",
      "- Play Game\n",
      "- BROWSE TEMPLATES\n",
      "- LEARN HOW TO\n",
      "- W3SCHOOLS SHOP\n"
     ]
    }
   ],
   "source": [
    "# Helper - Remove multiple substrings from main string.\n",
    "def replace_multiple_texts(list_of_texts, str):\n",
    "    # Remove line break through split and join.\n",
    "    str_remove_linebreak = lambda s: ' '.join(s.split())\n",
    "    \n",
    "    # Proceed with replace only when the list of substring is not empty.\n",
    "    if len(list_of_texts) > 0:\n",
    "        new_str = \"\"\n",
    "        for text in list_of_texts:\n",
    "            new_str = str.replace(text, '')\n",
    "        \n",
    "        # Return new string.\n",
    "        return str_remove_linebreak(new_str)\n",
    "    \n",
    "    # Return original string.\n",
    "    return str\n",
    "\n",
    "BTN_TUTORIAL = \"tut-button\"\n",
    "list_of_tut_buttons = driver.find_elements(By.CLASS_NAME, BTN_TUTORIAL)\n",
    "\n",
    "print(f\"Number of tutorial button(s): {len(list_of_tut_buttons)}\")\n",
    "print(\"-\"*50)\n",
    "\n",
    "# Print all tutorial buttons without span text.\n",
    "for a in list_of_tut_buttons:\n",
    "    try:\n",
    "        list_span_text = a.find_element(By.TAG_NAME, \"span\").text\n",
    "        a_text = replace_multiple_texts(list_span_text, a.text)\n",
    "    except:\n",
    "        a_text = a.text\n",
    "\n",
    "    print(f\"- {a_text}\")"
   ]
  },
  {
   "cell_type": "markdown",
   "metadata": {},
   "source": [
    "Close the browser window."
   ]
  },
  {
   "cell_type": "code",
   "execution_count": 8,
   "metadata": {},
   "outputs": [],
   "source": [
    "driver.close()"
   ]
  },
  {
   "cell_type": "markdown",
   "metadata": {},
   "source": [
    "## ID\n",
    "\n",
    "In an HTML page, the ID attribute, if exists, is a unique identifier for every WebElement. Therefore, it is best used to find a specific WebElement on an HTML page for some actions. To demonstrate finding WebElements with ID, we simulate the search action on the W3Schools homepage with the following steps:\n",
    "\n",
    "- Click \"Search\" icon at the top right of the homepage.\n",
    "- Enter keyword into the search bar.\n",
    "- Click \"Search\" button next to the search bar.\n",
    "\n",
    "Before moving on, let's define an instance of Chrome driver, then open the W3Schools homepage and maximize the browser window."
   ]
  },
  {
   "cell_type": "code",
   "execution_count": 9,
   "metadata": {},
   "outputs": [],
   "source": [
    "driver = webdriver.Chrome(service=s)\n",
    "driver.get(\"https://www.w3schools.com\")\n",
    "driver.maximize_window()"
   ]
  },
  {
   "cell_type": "markdown",
   "metadata": {},
   "source": [
    "### Click \"Search\" icon (ID:  `\"nav_search_btn\"`) at the top right of the homepage.\n",
    "\n",
    "The ID of the \"Search\" icon at the top right of the homepage is `\"nav_search_btn\"`. The `By` strategy for ID in Python Selenium API is `ID`."
   ]
  },
  {
   "cell_type": "code",
   "execution_count": 10,
   "metadata": {},
   "outputs": [],
   "source": [
    "SEARCH_ICON_ID = \"nav_search_btn\"\n",
    "driver.find_element(By.ID, SEARCH_ICON_ID).click()"
   ]
  },
  {
   "cell_type": "markdown",
   "metadata": {},
   "source": [
    "### Enter keyword \"selenium\" into the search bar (ID: `\"gsc-i-id1\"`).\n",
    "\n",
    "We move one step further. After clicking the \"Search\" icon, the search bar that appears on the screen also has a unique ID: `\"gsc-i-id1\"`. We can simulate the search keyword entry using Python Selenium API `.send_keys(<string>)`."
   ]
  },
  {
   "cell_type": "code",
   "execution_count": 11,
   "metadata": {},
   "outputs": [],
   "source": [
    "SEARCH_BAR_ID = \"gsc-i-id1\"\n",
    "driver.find_element(By.ID, SEARCH_BAR_ID).send_keys(\"selenium\")"
   ]
  },
  {
   "cell_type": "markdown",
   "metadata": {},
   "source": [
    "### Click \"Search\" button next to the search bar (ID: `\"gsc-search-button-v2\"`).\n",
    "\n",
    "After entering search keyword (e.g., \"selenium\"), click \"Search\" button next to the search bar. The \"Search\" button has a unique ID: `\"gsc-search-button-v2\"`."
   ]
  },
  {
   "cell_type": "code",
   "execution_count": 12,
   "metadata": {},
   "outputs": [],
   "source": [
    "SEARCH_BTN_CLASS_NAME = \"gsc-search-button-v2\"\n",
    "driver.find_element(By.CLASS_NAME, SEARCH_BTN_CLASS_NAME).click()"
   ]
  },
  {
   "cell_type": "markdown",
   "metadata": {},
   "source": [
    "Close the browser window."
   ]
  },
  {
   "cell_type": "code",
   "execution_count": 13,
   "metadata": {},
   "outputs": [],
   "source": [
    "driver.close()"
   ]
  },
  {
   "cell_type": "markdown",
   "metadata": {},
   "source": [
    "## Name\n",
    "\n",
    "To demonstrate finding WebElements with Name, we simulate the login action on the W3Schools login page. As usual, we first define an instance of Chrome driver, then open the W3Schools homepage and maximize the browser window."
   ]
  },
  {
   "cell_type": "code",
   "execution_count": 14,
   "metadata": {},
   "outputs": [],
   "source": [
    "driver = webdriver.Chrome(service=s)\n",
    "driver.get(\"https://www.w3schools.com\")\n",
    "driver.maximize_window()"
   ]
  },
  {
   "cell_type": "markdown",
   "metadata": {},
   "source": [
    "Click \"Login\" button at the top right of the homepage to visit login page."
   ]
  },
  {
   "cell_type": "code",
   "execution_count": 15,
   "metadata": {},
   "outputs": [],
   "source": [
    "driver.find_element(By.ID, \"w3loginbtn\").click()"
   ]
  },
  {
   "cell_type": "markdown",
   "metadata": {},
   "source": [
    "### Enter email and password into the email and password fields respectively.\n",
    "\n",
    "The login page has a rather simple user interface, with a form at the middle region of the page with two fields: \"Email\" and \"Password\", and a \"Login\" button. The values of the **name** attributes for \"Email\" and \"Password\" fields are `\"email\"` and `\"current-password\"` respectively.\n",
    "\n",
    "Using Python Selenium APIs `.clear()` <sub>(to empty the text field)</sub> and `send_keys(<string>)` <sub>(to enter texts into selected field)</sub>, we simulate the actions to enter email (e.g., \"hello@gmail.com\") and password (e.g., \"Pass1234*\") into the email and password fields respectively."
   ]
  },
  {
   "cell_type": "code",
   "execution_count": 18,
   "metadata": {},
   "outputs": [],
   "source": [
    "NAME_EMAIL = \"email\"\n",
    "NAME_CURRENT_PASSWORD = \"current-password\"\n",
    "\n",
    "driver.find_element(By.NAME, NAME_EMAIL).clear()\n",
    "driver.find_element(By.NAME, NAME_EMAIL).send_keys(\"hello@gmail.com\")\n",
    "driver.find_element(By.NAME, NAME_CURRENT_PASSWORD).clear()\n",
    "driver.find_element(By.NAME, NAME_CURRENT_PASSWORD).send_keys(\"Pass1234*\")"
   ]
  },
  {
   "cell_type": "markdown",
   "metadata": {},
   "source": [
    "Click \"X\" (Close) button at the top right to go back to previous page."
   ]
  },
  {
   "cell_type": "code",
   "execution_count": 20,
   "metadata": {},
   "outputs": [],
   "source": [
    "driver.find_element(By.XPATH, \"//button[@title='Close']\").click()"
   ]
  },
  {
   "cell_type": "markdown",
   "metadata": {},
   "source": [
    "Close the browser window."
   ]
  },
  {
   "cell_type": "code",
   "execution_count": 21,
   "metadata": {},
   "outputs": [],
   "source": [
    "driver.close()"
   ]
  },
  {
   "cell_type": "markdown",
   "metadata": {},
   "source": [
    "## Tag Name "
   ]
  },
  {
   "cell_type": "markdown",
   "metadata": {},
   "source": [
    "Similar to search strategy with class name, search strategy with tag name is normally used to extract list of elements with the same HTML tags from a page, or enclosed within a WebElement, e.g. list of buttons, table, links, etc.\n",
    "\n",
    "Again, we need to define an instance of Chrome driver, then open the W3Schools homepage and maximize the browser window."
   ]
  },
  {
   "cell_type": "code",
   "execution_count": 22,
   "metadata": {},
   "outputs": [],
   "source": [
    "driver = webdriver.Chrome(service=s)\n",
    "driver.get(\"https://www.w3schools.com\")\n",
    "driver.maximize_window()"
   ]
  },
  {
   "cell_type": "markdown",
   "metadata": {},
   "source": [
    "### Retrieve all the links on the target page.\n",
    "\n",
    "We simulate the process of scraping all links on the W3Schools homepage. This can be done by specifying tag name (i.e. `TAG_NAME`) as the search strategy, with tag: `a` (for links/anchors) in Python Selenium API."
   ]
  },
  {
   "cell_type": "code",
   "execution_count": 23,
   "metadata": {},
   "outputs": [
    {
     "name": "stdout",
     "output_type": "stream",
     "text": [
      "Number of link(s): 319\n"
     ]
    }
   ],
   "source": [
    "list_of_links = driver.find_elements(By.TAG_NAME, \"a\")\n",
    "\n",
    "print(f\"Number of link(s): {len(list_of_links)}\")"
   ]
  },
  {
   "cell_type": "markdown",
   "metadata": {},
   "source": [
    "Close the browser window."
   ]
  },
  {
   "cell_type": "code",
   "execution_count": 24,
   "metadata": {},
   "outputs": [],
   "source": [
    "driver.close()"
   ]
  },
  {
   "cell_type": "markdown",
   "metadata": {},
   "source": [
    "## Further Readings\n",
    "\n",
    "- Selenium API for Python: https://selenium-python.readthedocs.io/api.html"
   ]
  }
 ],
 "metadata": {
  "kernelspec": {
   "display_name": "Python 3",
   "language": "python",
   "name": "python3"
  },
  "language_info": {
   "codemirror_mode": {
    "name": "ipython",
    "version": 3
   },
   "file_extension": ".py",
   "mimetype": "text/x-python",
   "name": "python",
   "nbconvert_exporter": "python",
   "pygments_lexer": "ipython3",
   "version": "3.8.3"
  }
 },
 "nbformat": 4,
 "nbformat_minor": 4
}
